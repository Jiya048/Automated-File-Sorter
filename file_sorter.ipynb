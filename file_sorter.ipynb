{
 "cells": [
  {
   "cell_type": "markdown",
   "id": "e615e141",
   "metadata": {},
   "source": [
    "**AUTOMATIC FILE SORTER IN FILE EXPLORER**\n"
   ]
  },
  {
   "cell_type": "code",
   "execution_count": 1,
   "id": "1071275c",
   "metadata": {},
   "outputs": [],
   "source": [
    "import os , shutil"
   ]
  },
  {
   "cell_type": "code",
   "execution_count": 7,
   "id": "041daac8",
   "metadata": {},
   "outputs": [],
   "source": [
    "path=r\"C:/Users/Dell/OneDrive/Desktop/imp certificates/\""
   ]
  },
  {
   "cell_type": "code",
   "execution_count": 8,
   "id": "47961ede",
   "metadata": {},
   "outputs": [
    {
     "data": {
      "text/plain": [
       "['10th marksheet.pdf',\n",
       " '12th marksheet.pdf',\n",
       " '1714065550133250.MP4',\n",
       " '1_sem.pdf',\n",
       " '2 sem.pdf',\n",
       " '3_sem.pdf',\n",
       " 'ACFrOgCOfpALRvIhS8rYoBpGc2ncfzxgu-e2yFk3FzbCBFGvlX6AX3Uv9aGEjIxrMddYoFVkEaU8tMPKeb2urupsdLUw4WZMYCazpiZ0FbXBkagNz4Jrya-_h8nJauvkZQBn0CWP96RC9al1ROGRWXENqQHwkKEWTcsHhrS5hw==.pdf',\n",
       " 'ADHAR CARD.jpg',\n",
       " 'Adobe Scan 27 Feb 2024.pdf',\n",
       " 'Adobe Scan 7 Jun 2024.pdf',\n",
       " 'AICTE certificate.pdf',\n",
       " 'AICTE completion certificate.pdf',\n",
       " 'aws.jpeg',\n",
       " 'bankers-algorithm (2).zip',\n",
       " 'bharat intern.pdf',\n",
       " 'certificate bharat intern.pdf',\n",
       " 'Certificate.jpeg',\n",
       " 'coding ninja certificate.pdf',\n",
       " 'Coursera python.pdf',\n",
       " 'Desktop',\n",
       " 'github.png',\n",
       " 'hackerrank.png',\n",
       " 'i2c2Hackathon.pdf',\n",
       " 'ibm.pdf',\n",
       " 'ibm.png',\n",
       " 'ID CARDSRM.jpg',\n",
       " 'IEI certificate.pdf',\n",
       " 'j&jHackathon.pdf',\n",
       " 'JIYA RESUME (1).pdf',\n",
       " 'Jiya_Resume.pdf',\n",
       " 'johnson & johnson.pdf',\n",
       " 'JUNIPER CERTIFICATE.pdf',\n",
       " 'Mall_Customers.xlsx',\n",
       " 'mozohack.jpeg',\n",
       " 'oracle_certification.pdf',\n",
       " 'pan card.jpg',\n",
       " 'pancard.pdf',\n",
       " 'photo passport.jpg',\n",
       " 'resume_final.pdf',\n",
       " 'sem6.png',\n",
       " 'semester 4 gradesheet.png',\n",
       " 'sem_5.pdf',\n",
       " 'servicenow.pdf',\n",
       " 'SRMID.pdf',\n",
       " 'SSOC.jpeg',\n",
       " 'StudentHallticketinner.jsp',\n",
       " 'udemy.jpg',\n",
       " '_I2C2 hackathon.pdf']"
      ]
     },
     "execution_count": 8,
     "metadata": {},
     "output_type": "execute_result"
    }
   ],
   "source": [
    "os.listdir(path)"
   ]
  },
  {
   "cell_type": "code",
   "execution_count": 12,
   "id": "9b7cbfd6",
   "metadata": {},
   "outputs": [],
   "source": [
    "file_name=os.listdir(path)"
   ]
  },
  {
   "cell_type": "code",
   "execution_count": 15,
   "id": "f0faa3ce",
   "metadata": {},
   "outputs": [
    {
     "name": "stdout",
     "output_type": "stream",
     "text": [
      "C:/Users/Dell/OneDrive/Desktop/imp certificates/XL files\n"
     ]
    }
   ],
   "source": [
    "folder_names=['pdf files','image files','video files','XL files']\n",
    "for loop in range(0,4):\n",
    "    if not os.path.exists(path+folder_names[loop]):\n",
    "        print(path+folder_names[loop])\n",
    "        os.makedirs(path+folder_names[loop])"
   ]
  },
  {
   "cell_type": "code",
   "execution_count": 31,
   "id": "86dd469a",
   "metadata": {},
   "outputs": [],
   "source": [
    "for file in file_name:\n",
    "    if \".xlsx\" in file and not os.path.exists(path+\"XL files/\" + file):\n",
    "        shutil.move(path + file , path + \"XL files/\" + file)\n",
    "    elif \".png\" in file and not os.path.exists(path+\"image files/\" + file):\n",
    "        shutil.move(path + file , path + \"image files/\" + file)\n",
    "    elif \".jpeg\" in file and not os.path.exists(path+\"image files/\" + file):\n",
    "        shutil.move(path + file , path + \"image files/\" + file)\n",
    "    elif \".jpg\" in file and not os.path.exists(path+\"image files/\" + file):\n",
    "        shutil.move(path + file , path + \"image files/\" + file)\n",
    "    elif \".pdf\" in file and not os.path.exists(path+\"pdf files/\" + file):\n",
    "        shutil.move(path + file , path + \"pdf files/\" + file)\n",
    "    elif \".MP4\" in file and not os.path.exists(path+\"video files/\" + file):\n",
    "          shutil.move(path + file , path + \"video files/\" + file)"
   ]
  },
  {
   "cell_type": "code",
   "execution_count": null,
   "id": "7082c56e",
   "metadata": {},
   "outputs": [],
   "source": []
  }
 ],
 "metadata": {
  "kernelspec": {
   "display_name": "Python 3 (ipykernel)",
   "language": "python",
   "name": "python3"
  },
  "language_info": {
   "codemirror_mode": {
    "name": "ipython",
    "version": 3
   },
   "file_extension": ".py",
   "mimetype": "text/x-python",
   "name": "python",
   "nbconvert_exporter": "python",
   "pygments_lexer": "ipython3",
   "version": "3.11.4"
  }
 },
 "nbformat": 4,
 "nbformat_minor": 5
}
